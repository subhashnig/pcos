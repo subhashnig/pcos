{
  "nbformat": 4,
  "nbformat_minor": 0,
  "metadata": {
    "colab": {
      "provenance": []
    },
    "kernelspec": {
      "name": "python3",
      "display_name": "Python 3"
    },
    "language_info": {
      "name": "python"
    }
  },
  "cells": [
    {
      "cell_type": "code",
      "execution_count": null,
      "metadata": {
        "id": "kJ3sU6BTuysq"
      },
      "outputs": [],
      "source": [
        "import numpy as np\n",
        "import pandas as pd"
      ]
    },
    {
      "cell_type": "code",
      "source": [
        "df = pd.read_csv('/content/pcos_data.csv')"
      ],
      "metadata": {
        "id": "W4Ms6aCZjBJL"
      },
      "execution_count": null,
      "outputs": []
    },
    {
      "cell_type": "code",
      "source": [
        "df.info()"
      ],
      "metadata": {
        "id": "UpNicyk7kFeQ",
        "colab": {
          "base_uri": "https://localhost:8080/"
        },
        "outputId": "546338b1-465a-4b3b-d113-ef70f00081d3"
      },
      "execution_count": null,
      "outputs": [
        {
          "output_type": "stream",
          "name": "stdout",
          "text": [
            "<class 'pandas.core.frame.DataFrame'>\n",
            "RangeIndex: 529 entries, 0 to 528\n",
            "Data columns (total 38 columns):\n",
            " #   Column                 Non-Null Count  Dtype  \n",
            "---  ------                 --------------  -----  \n",
            " 0   PCOS (Y/N)             529 non-null    int64  \n",
            " 1    Age (yrs)             529 non-null    int64  \n",
            " 2   Weight (Kg)            529 non-null    float64\n",
            " 3   Height(Cm)             529 non-null    float64\n",
            " 4   BMI                    529 non-null    float64\n",
            " 5   Blood Group            529 non-null    int64  \n",
            " 6   Pulse rate(bpm)        529 non-null    int64  \n",
            " 7   RR (breaths/min)       529 non-null    int64  \n",
            " 8   Hb(g/dl)               529 non-null    float64\n",
            " 9   Cycle(R/I)             529 non-null    int64  \n",
            " 10  Cycle length(days)     529 non-null    int64  \n",
            " 11  Marraige Status (Yrs)  529 non-null    float64\n",
            " 12  Pregnant(Y/N)          529 non-null    int64  \n",
            " 13  No. of aborptions      529 non-null    int64  \n",
            " 14  FSH(mIU/mL)            529 non-null    float64\n",
            " 15  LH(mIU/mL)             529 non-null    float64\n",
            " 16  Hip(inch)              529 non-null    int64  \n",
            " 17  Waist(inch)            529 non-null    int64  \n",
            " 18  TSH (mIU/L)            529 non-null    float64\n",
            " 19  AMH(ng/mL)             529 non-null    float64\n",
            " 20  PRL(ng/mL)             529 non-null    float64\n",
            " 21  Vit D3 (ng/mL)         529 non-null    float64\n",
            " 22  PRG(ng/mL)             529 non-null    float64\n",
            " 23  RBS(mg/dl)             529 non-null    float64\n",
            " 24  Weight gain(Y/N)       529 non-null    int64  \n",
            " 25  hair growth(Y/N)       529 non-null    int64  \n",
            " 26  Skin darkening (Y/N)   529 non-null    int64  \n",
            " 27  Hair loss(Y/N)         529 non-null    int64  \n",
            " 28  Pimples(Y/N)           529 non-null    int64  \n",
            " 29  Fast food (Y/N)        529 non-null    float64\n",
            " 30  Reg.Exercise(Y/N)      529 non-null    int64  \n",
            " 31  BP _Systolic (mmHg)    529 non-null    int64  \n",
            " 32  BP _Diastolic (mmHg)   529 non-null    int64  \n",
            " 33  Follicle No. (L)       529 non-null    int64  \n",
            " 34  Follicle No. (R)       529 non-null    int64  \n",
            " 35  Avg. F size (L) (mm)   529 non-null    float64\n",
            " 36  Avg. F size (R) (mm)   529 non-null    float64\n",
            " 37  Endometrium (mm)       529 non-null    float64\n",
            "dtypes: float64(17), int64(21)\n",
            "memory usage: 157.2 KB\n"
          ]
        }
      ]
    },
    {
      "cell_type": "code",
      "source": [
        "df[['PCOS (Y/N)',' Age (yrs)','Blood Group','Pulse rate(bpm) ','RR (breaths/min)','Cycle(R/I)','Cycle length(days)','Pregnant(Y/N)','No. of aborptions','Hip(inch)','Waist(inch)','Weight gain(Y/N)','hair growth(Y/N)','Skin darkening (Y/N)','Hair loss(Y/N)','Pimples(Y/N)','Reg.Exercise(Y/N)','BP _Systolic (mmHg)','BP _Diastolic (mmHg)','Follicle No. (L)','Follicle No. (R)']]=df[['PCOS (Y/N)',' Age (yrs)','Blood Group','Pulse rate(bpm) ','RR (breaths/min)','Cycle(R/I)','Cycle length(days)','Pregnant(Y/N)','No. of aborptions','Hip(inch)','Waist(inch)','Weight gain(Y/N)','hair growth(Y/N)','Skin darkening (Y/N)','Hair loss(Y/N)','Pimples(Y/N)','Reg.Exercise(Y/N)','BP _Systolic (mmHg)','BP _Diastolic (mmHg)','Follicle No. (L)','Follicle No. (R)']].astype(float)"
      ],
      "metadata": {
        "id": "OoC-tvVyJDJB"
      },
      "execution_count": null,
      "outputs": []
    },
    {
      "cell_type": "markdown",
      "source": [],
      "metadata": {
        "id": "1kALUtZst-W-"
      }
    },
    {
      "cell_type": "code",
      "source": [
        "df.info()"
      ],
      "metadata": {
        "id": "iOJ1G0xbkmXy",
        "colab": {
          "base_uri": "https://localhost:8080/"
        },
        "outputId": "aae911c9-8929-4766-8047-0ad544ece586"
      },
      "execution_count": null,
      "outputs": [
        {
          "output_type": "stream",
          "name": "stdout",
          "text": [
            "<class 'pandas.core.frame.DataFrame'>\n",
            "RangeIndex: 529 entries, 0 to 528\n",
            "Data columns (total 38 columns):\n",
            " #   Column                 Non-Null Count  Dtype  \n",
            "---  ------                 --------------  -----  \n",
            " 0   PCOS (Y/N)             529 non-null    float64\n",
            " 1    Age (yrs)             529 non-null    float64\n",
            " 2   Weight (Kg)            529 non-null    float64\n",
            " 3   Height(Cm)             529 non-null    float64\n",
            " 4   BMI                    529 non-null    float64\n",
            " 5   Blood Group            529 non-null    float64\n",
            " 6   Pulse rate(bpm)        529 non-null    float64\n",
            " 7   RR (breaths/min)       529 non-null    float64\n",
            " 8   Hb(g/dl)               529 non-null    float64\n",
            " 9   Cycle(R/I)             529 non-null    float64\n",
            " 10  Cycle length(days)     529 non-null    float64\n",
            " 11  Marraige Status (Yrs)  529 non-null    float64\n",
            " 12  Pregnant(Y/N)          529 non-null    float64\n",
            " 13  No. of aborptions      529 non-null    float64\n",
            " 14  FSH(mIU/mL)            529 non-null    float64\n",
            " 15  LH(mIU/mL)             529 non-null    float64\n",
            " 16  Hip(inch)              529 non-null    float64\n",
            " 17  Waist(inch)            529 non-null    float64\n",
            " 18  TSH (mIU/L)            529 non-null    float64\n",
            " 19  AMH(ng/mL)             529 non-null    float64\n",
            " 20  PRL(ng/mL)             529 non-null    float64\n",
            " 21  Vit D3 (ng/mL)         529 non-null    float64\n",
            " 22  PRG(ng/mL)             529 non-null    float64\n",
            " 23  RBS(mg/dl)             529 non-null    float64\n",
            " 24  Weight gain(Y/N)       529 non-null    float64\n",
            " 25  hair growth(Y/N)       529 non-null    float64\n",
            " 26  Skin darkening (Y/N)   529 non-null    float64\n",
            " 27  Hair loss(Y/N)         529 non-null    float64\n",
            " 28  Pimples(Y/N)           529 non-null    float64\n",
            " 29  Fast food (Y/N)        529 non-null    float64\n",
            " 30  Reg.Exercise(Y/N)      529 non-null    float64\n",
            " 31  BP _Systolic (mmHg)    529 non-null    float64\n",
            " 32  BP _Diastolic (mmHg)   529 non-null    float64\n",
            " 33  Follicle No. (L)       529 non-null    float64\n",
            " 34  Follicle No. (R)       529 non-null    float64\n",
            " 35  Avg. F size (L) (mm)   529 non-null    float64\n",
            " 36  Avg. F size (R) (mm)   529 non-null    float64\n",
            " 37  Endometrium (mm)       529 non-null    float64\n",
            "dtypes: float64(38)\n",
            "memory usage: 157.2 KB\n"
          ]
        }
      ]
    },
    {
      "cell_type": "code",
      "source": [
        "df.head()"
      ],
      "metadata": {
        "id": "K775MCYNU646",
        "colab": {
          "base_uri": "https://localhost:8080/",
          "height": 325
        },
        "outputId": "097e6901-a277-443d-d9ba-eddc2256bad6"
      },
      "execution_count": null,
      "outputs": [
        {
          "output_type": "execute_result",
          "data": {
            "text/plain": [
              "   PCOS (Y/N)   Age (yrs)  Weight (Kg)  Height(Cm)         BMI  Blood Group  \\\n",
              "0         0.0        28.0         44.6        152.0  19.300000         15.0   \n",
              "1         0.0        36.0         65.0        161.5  24.921163         15.0   \n",
              "2         1.0        33.0         68.8        165.0  25.270891         11.0   \n",
              "3         0.0        37.0         65.0        148.0  29.674945         13.0   \n",
              "4         0.0        25.0         52.0        161.0  20.060954         11.0   \n",
              "\n",
              "   Pulse rate(bpm)   RR (breaths/min)  Hb(g/dl)  Cycle(R/I)  ...  \\\n",
              "0              78.0              22.0     10.48         2.0  ...   \n",
              "1              74.0              20.0     11.70         2.0  ...   \n",
              "2              72.0              18.0     11.80         2.0  ...   \n",
              "3              72.0              20.0     12.00         2.0  ...   \n",
              "4              72.0              18.0     10.00         2.0  ...   \n",
              "\n",
              "   Pimples(Y/N)  Fast food (Y/N)  Reg.Exercise(Y/N)  BP _Systolic (mmHg)  \\\n",
              "0           0.0              1.0                0.0                110.0   \n",
              "1           0.0              0.0                0.0                120.0   \n",
              "2           1.0              1.0                0.0                120.0   \n",
              "3           0.0              0.0                0.0                120.0   \n",
              "4           0.0              0.0                0.0                120.0   \n",
              "\n",
              "   BP _Diastolic (mmHg)  Follicle No. (L)  Follicle No. (R)  \\\n",
              "0                  80.0               3.0               3.0   \n",
              "1                  70.0               3.0               5.0   \n",
              "2                  80.0              13.0              15.0   \n",
              "3                  70.0               2.0               2.0   \n",
              "4                  80.0               3.0               4.0   \n",
              "\n",
              "   Avg. F size (L) (mm)  Avg. F size (R) (mm)  Endometrium (mm)  \n",
              "0                  18.0                  18.0               8.5  \n",
              "1                  15.0                  14.0               3.7  \n",
              "2                  18.0                  20.0              10.0  \n",
              "3                  15.0                  14.0               7.5  \n",
              "4                  16.0                  14.0               7.0  \n",
              "\n",
              "[5 rows x 38 columns]"
            ],
            "text/html": [
              "\n",
              "  <div id=\"df-89cb01ea-e28f-412b-bc9d-c7b46028b2b9\" class=\"colab-df-container\">\n",
              "    <div>\n",
              "<style scoped>\n",
              "    .dataframe tbody tr th:only-of-type {\n",
              "        vertical-align: middle;\n",
              "    }\n",
              "\n",
              "    .dataframe tbody tr th {\n",
              "        vertical-align: top;\n",
              "    }\n",
              "\n",
              "    .dataframe thead th {\n",
              "        text-align: right;\n",
              "    }\n",
              "</style>\n",
              "<table border=\"1\" class=\"dataframe\">\n",
              "  <thead>\n",
              "    <tr style=\"text-align: right;\">\n",
              "      <th></th>\n",
              "      <th>PCOS (Y/N)</th>\n",
              "      <th>Age (yrs)</th>\n",
              "      <th>Weight (Kg)</th>\n",
              "      <th>Height(Cm)</th>\n",
              "      <th>BMI</th>\n",
              "      <th>Blood Group</th>\n",
              "      <th>Pulse rate(bpm)</th>\n",
              "      <th>RR (breaths/min)</th>\n",
              "      <th>Hb(g/dl)</th>\n",
              "      <th>Cycle(R/I)</th>\n",
              "      <th>...</th>\n",
              "      <th>Pimples(Y/N)</th>\n",
              "      <th>Fast food (Y/N)</th>\n",
              "      <th>Reg.Exercise(Y/N)</th>\n",
              "      <th>BP _Systolic (mmHg)</th>\n",
              "      <th>BP _Diastolic (mmHg)</th>\n",
              "      <th>Follicle No. (L)</th>\n",
              "      <th>Follicle No. (R)</th>\n",
              "      <th>Avg. F size (L) (mm)</th>\n",
              "      <th>Avg. F size (R) (mm)</th>\n",
              "      <th>Endometrium (mm)</th>\n",
              "    </tr>\n",
              "  </thead>\n",
              "  <tbody>\n",
              "    <tr>\n",
              "      <th>0</th>\n",
              "      <td>0.0</td>\n",
              "      <td>28.0</td>\n",
              "      <td>44.6</td>\n",
              "      <td>152.0</td>\n",
              "      <td>19.300000</td>\n",
              "      <td>15.0</td>\n",
              "      <td>78.0</td>\n",
              "      <td>22.0</td>\n",
              "      <td>10.48</td>\n",
              "      <td>2.0</td>\n",
              "      <td>...</td>\n",
              "      <td>0.0</td>\n",
              "      <td>1.0</td>\n",
              "      <td>0.0</td>\n",
              "      <td>110.0</td>\n",
              "      <td>80.0</td>\n",
              "      <td>3.0</td>\n",
              "      <td>3.0</td>\n",
              "      <td>18.0</td>\n",
              "      <td>18.0</td>\n",
              "      <td>8.5</td>\n",
              "    </tr>\n",
              "    <tr>\n",
              "      <th>1</th>\n",
              "      <td>0.0</td>\n",
              "      <td>36.0</td>\n",
              "      <td>65.0</td>\n",
              "      <td>161.5</td>\n",
              "      <td>24.921163</td>\n",
              "      <td>15.0</td>\n",
              "      <td>74.0</td>\n",
              "      <td>20.0</td>\n",
              "      <td>11.70</td>\n",
              "      <td>2.0</td>\n",
              "      <td>...</td>\n",
              "      <td>0.0</td>\n",
              "      <td>0.0</td>\n",
              "      <td>0.0</td>\n",
              "      <td>120.0</td>\n",
              "      <td>70.0</td>\n",
              "      <td>3.0</td>\n",
              "      <td>5.0</td>\n",
              "      <td>15.0</td>\n",
              "      <td>14.0</td>\n",
              "      <td>3.7</td>\n",
              "    </tr>\n",
              "    <tr>\n",
              "      <th>2</th>\n",
              "      <td>1.0</td>\n",
              "      <td>33.0</td>\n",
              "      <td>68.8</td>\n",
              "      <td>165.0</td>\n",
              "      <td>25.270891</td>\n",
              "      <td>11.0</td>\n",
              "      <td>72.0</td>\n",
              "      <td>18.0</td>\n",
              "      <td>11.80</td>\n",
              "      <td>2.0</td>\n",
              "      <td>...</td>\n",
              "      <td>1.0</td>\n",
              "      <td>1.0</td>\n",
              "      <td>0.0</td>\n",
              "      <td>120.0</td>\n",
              "      <td>80.0</td>\n",
              "      <td>13.0</td>\n",
              "      <td>15.0</td>\n",
              "      <td>18.0</td>\n",
              "      <td>20.0</td>\n",
              "      <td>10.0</td>\n",
              "    </tr>\n",
              "    <tr>\n",
              "      <th>3</th>\n",
              "      <td>0.0</td>\n",
              "      <td>37.0</td>\n",
              "      <td>65.0</td>\n",
              "      <td>148.0</td>\n",
              "      <td>29.674945</td>\n",
              "      <td>13.0</td>\n",
              "      <td>72.0</td>\n",
              "      <td>20.0</td>\n",
              "      <td>12.00</td>\n",
              "      <td>2.0</td>\n",
              "      <td>...</td>\n",
              "      <td>0.0</td>\n",
              "      <td>0.0</td>\n",
              "      <td>0.0</td>\n",
              "      <td>120.0</td>\n",
              "      <td>70.0</td>\n",
              "      <td>2.0</td>\n",
              "      <td>2.0</td>\n",
              "      <td>15.0</td>\n",
              "      <td>14.0</td>\n",
              "      <td>7.5</td>\n",
              "    </tr>\n",
              "    <tr>\n",
              "      <th>4</th>\n",
              "      <td>0.0</td>\n",
              "      <td>25.0</td>\n",
              "      <td>52.0</td>\n",
              "      <td>161.0</td>\n",
              "      <td>20.060954</td>\n",
              "      <td>11.0</td>\n",
              "      <td>72.0</td>\n",
              "      <td>18.0</td>\n",
              "      <td>10.00</td>\n",
              "      <td>2.0</td>\n",
              "      <td>...</td>\n",
              "      <td>0.0</td>\n",
              "      <td>0.0</td>\n",
              "      <td>0.0</td>\n",
              "      <td>120.0</td>\n",
              "      <td>80.0</td>\n",
              "      <td>3.0</td>\n",
              "      <td>4.0</td>\n",
              "      <td>16.0</td>\n",
              "      <td>14.0</td>\n",
              "      <td>7.0</td>\n",
              "    </tr>\n",
              "  </tbody>\n",
              "</table>\n",
              "<p>5 rows × 38 columns</p>\n",
              "</div>\n",
              "    <div class=\"colab-df-buttons\">\n",
              "\n",
              "  <div class=\"colab-df-container\">\n",
              "    <button class=\"colab-df-convert\" onclick=\"convertToInteractive('df-89cb01ea-e28f-412b-bc9d-c7b46028b2b9')\"\n",
              "            title=\"Convert this dataframe to an interactive table.\"\n",
              "            style=\"display:none;\">\n",
              "\n",
              "  <svg xmlns=\"http://www.w3.org/2000/svg\" height=\"24px\" viewBox=\"0 -960 960 960\">\n",
              "    <path d=\"M120-120v-720h720v720H120Zm60-500h600v-160H180v160Zm220 220h160v-160H400v160Zm0 220h160v-160H400v160ZM180-400h160v-160H180v160Zm440 0h160v-160H620v160ZM180-180h160v-160H180v160Zm440 0h160v-160H620v160Z\"/>\n",
              "  </svg>\n",
              "    </button>\n",
              "\n",
              "  <style>\n",
              "    .colab-df-container {\n",
              "      display:flex;\n",
              "      gap: 12px;\n",
              "    }\n",
              "\n",
              "    .colab-df-convert {\n",
              "      background-color: #E8F0FE;\n",
              "      border: none;\n",
              "      border-radius: 50%;\n",
              "      cursor: pointer;\n",
              "      display: none;\n",
              "      fill: #1967D2;\n",
              "      height: 32px;\n",
              "      padding: 0 0 0 0;\n",
              "      width: 32px;\n",
              "    }\n",
              "\n",
              "    .colab-df-convert:hover {\n",
              "      background-color: #E2EBFA;\n",
              "      box-shadow: 0px 1px 2px rgba(60, 64, 67, 0.3), 0px 1px 3px 1px rgba(60, 64, 67, 0.15);\n",
              "      fill: #174EA6;\n",
              "    }\n",
              "\n",
              "    .colab-df-buttons div {\n",
              "      margin-bottom: 4px;\n",
              "    }\n",
              "\n",
              "    [theme=dark] .colab-df-convert {\n",
              "      background-color: #3B4455;\n",
              "      fill: #D2E3FC;\n",
              "    }\n",
              "\n",
              "    [theme=dark] .colab-df-convert:hover {\n",
              "      background-color: #434B5C;\n",
              "      box-shadow: 0px 1px 3px 1px rgba(0, 0, 0, 0.15);\n",
              "      filter: drop-shadow(0px 1px 2px rgba(0, 0, 0, 0.3));\n",
              "      fill: #FFFFFF;\n",
              "    }\n",
              "  </style>\n",
              "\n",
              "    <script>\n",
              "      const buttonEl =\n",
              "        document.querySelector('#df-89cb01ea-e28f-412b-bc9d-c7b46028b2b9 button.colab-df-convert');\n",
              "      buttonEl.style.display =\n",
              "        google.colab.kernel.accessAllowed ? 'block' : 'none';\n",
              "\n",
              "      async function convertToInteractive(key) {\n",
              "        const element = document.querySelector('#df-89cb01ea-e28f-412b-bc9d-c7b46028b2b9');\n",
              "        const dataTable =\n",
              "          await google.colab.kernel.invokeFunction('convertToInteractive',\n",
              "                                                    [key], {});\n",
              "        if (!dataTable) return;\n",
              "\n",
              "        const docLinkHtml = 'Like what you see? Visit the ' +\n",
              "          '<a target=\"_blank\" href=https://colab.research.google.com/notebooks/data_table.ipynb>data table notebook</a>'\n",
              "          + ' to learn more about interactive tables.';\n",
              "        element.innerHTML = '';\n",
              "        dataTable['output_type'] = 'display_data';\n",
              "        await google.colab.output.renderOutput(dataTable, element);\n",
              "        const docLink = document.createElement('div');\n",
              "        docLink.innerHTML = docLinkHtml;\n",
              "        element.appendChild(docLink);\n",
              "      }\n",
              "    </script>\n",
              "  </div>\n",
              "\n",
              "\n",
              "<div id=\"df-e8b8ccb5-0047-4b9d-a6b3-068f2ea2a417\">\n",
              "  <button class=\"colab-df-quickchart\" onclick=\"quickchart('df-e8b8ccb5-0047-4b9d-a6b3-068f2ea2a417')\"\n",
              "            title=\"Suggest charts\"\n",
              "            style=\"display:none;\">\n",
              "\n",
              "<svg xmlns=\"http://www.w3.org/2000/svg\" height=\"24px\"viewBox=\"0 0 24 24\"\n",
              "     width=\"24px\">\n",
              "    <g>\n",
              "        <path d=\"M19 3H5c-1.1 0-2 .9-2 2v14c0 1.1.9 2 2 2h14c1.1 0 2-.9 2-2V5c0-1.1-.9-2-2-2zM9 17H7v-7h2v7zm4 0h-2V7h2v10zm4 0h-2v-4h2v4z\"/>\n",
              "    </g>\n",
              "</svg>\n",
              "  </button>\n",
              "\n",
              "<style>\n",
              "  .colab-df-quickchart {\n",
              "      --bg-color: #E8F0FE;\n",
              "      --fill-color: #1967D2;\n",
              "      --hover-bg-color: #E2EBFA;\n",
              "      --hover-fill-color: #174EA6;\n",
              "      --disabled-fill-color: #AAA;\n",
              "      --disabled-bg-color: #DDD;\n",
              "  }\n",
              "\n",
              "  [theme=dark] .colab-df-quickchart {\n",
              "      --bg-color: #3B4455;\n",
              "      --fill-color: #D2E3FC;\n",
              "      --hover-bg-color: #434B5C;\n",
              "      --hover-fill-color: #FFFFFF;\n",
              "      --disabled-bg-color: #3B4455;\n",
              "      --disabled-fill-color: #666;\n",
              "  }\n",
              "\n",
              "  .colab-df-quickchart {\n",
              "    background-color: var(--bg-color);\n",
              "    border: none;\n",
              "    border-radius: 50%;\n",
              "    cursor: pointer;\n",
              "    display: none;\n",
              "    fill: var(--fill-color);\n",
              "    height: 32px;\n",
              "    padding: 0;\n",
              "    width: 32px;\n",
              "  }\n",
              "\n",
              "  .colab-df-quickchart:hover {\n",
              "    background-color: var(--hover-bg-color);\n",
              "    box-shadow: 0 1px 2px rgba(60, 64, 67, 0.3), 0 1px 3px 1px rgba(60, 64, 67, 0.15);\n",
              "    fill: var(--button-hover-fill-color);\n",
              "  }\n",
              "\n",
              "  .colab-df-quickchart-complete:disabled,\n",
              "  .colab-df-quickchart-complete:disabled:hover {\n",
              "    background-color: var(--disabled-bg-color);\n",
              "    fill: var(--disabled-fill-color);\n",
              "    box-shadow: none;\n",
              "  }\n",
              "\n",
              "  .colab-df-spinner {\n",
              "    border: 2px solid var(--fill-color);\n",
              "    border-color: transparent;\n",
              "    border-bottom-color: var(--fill-color);\n",
              "    animation:\n",
              "      spin 1s steps(1) infinite;\n",
              "  }\n",
              "\n",
              "  @keyframes spin {\n",
              "    0% {\n",
              "      border-color: transparent;\n",
              "      border-bottom-color: var(--fill-color);\n",
              "      border-left-color: var(--fill-color);\n",
              "    }\n",
              "    20% {\n",
              "      border-color: transparent;\n",
              "      border-left-color: var(--fill-color);\n",
              "      border-top-color: var(--fill-color);\n",
              "    }\n",
              "    30% {\n",
              "      border-color: transparent;\n",
              "      border-left-color: var(--fill-color);\n",
              "      border-top-color: var(--fill-color);\n",
              "      border-right-color: var(--fill-color);\n",
              "    }\n",
              "    40% {\n",
              "      border-color: transparent;\n",
              "      border-right-color: var(--fill-color);\n",
              "      border-top-color: var(--fill-color);\n",
              "    }\n",
              "    60% {\n",
              "      border-color: transparent;\n",
              "      border-right-color: var(--fill-color);\n",
              "    }\n",
              "    80% {\n",
              "      border-color: transparent;\n",
              "      border-right-color: var(--fill-color);\n",
              "      border-bottom-color: var(--fill-color);\n",
              "    }\n",
              "    90% {\n",
              "      border-color: transparent;\n",
              "      border-bottom-color: var(--fill-color);\n",
              "    }\n",
              "  }\n",
              "</style>\n",
              "\n",
              "  <script>\n",
              "    async function quickchart(key) {\n",
              "      const quickchartButtonEl =\n",
              "        document.querySelector('#' + key + ' button');\n",
              "      quickchartButtonEl.disabled = true;  // To prevent multiple clicks.\n",
              "      quickchartButtonEl.classList.add('colab-df-spinner');\n",
              "      try {\n",
              "        const charts = await google.colab.kernel.invokeFunction(\n",
              "            'suggestCharts', [key], {});\n",
              "      } catch (error) {\n",
              "        console.error('Error during call to suggestCharts:', error);\n",
              "      }\n",
              "      quickchartButtonEl.classList.remove('colab-df-spinner');\n",
              "      quickchartButtonEl.classList.add('colab-df-quickchart-complete');\n",
              "    }\n",
              "    (() => {\n",
              "      let quickchartButtonEl =\n",
              "        document.querySelector('#df-e8b8ccb5-0047-4b9d-a6b3-068f2ea2a417 button');\n",
              "      quickchartButtonEl.style.display =\n",
              "        google.colab.kernel.accessAllowed ? 'block' : 'none';\n",
              "    })();\n",
              "  </script>\n",
              "</div>\n",
              "\n",
              "    </div>\n",
              "  </div>\n"
            ],
            "application/vnd.google.colaboratory.intrinsic+json": {
              "type": "dataframe",
              "variable_name": "df"
            }
          },
          "metadata": {},
          "execution_count": 12
        }
      ]
    },
    {
      "cell_type": "code",
      "source": [
        "import pandas as pd\n",
        "from sklearn.model_selection import train_test_split\n",
        "from sklearn.linear_model import LogisticRegression\n",
        "from sklearn.metrics import accuracy_score\n",
        "\n",
        "\n",
        "\n",
        "X = df.drop(columns=['PCOS (Y/N)'])\n",
        "y = df['PCOS (Y/N)']\n",
        "\n",
        "X_train, X_test, y_train, y_test = train_test_split(X, y, test_size=0.2, random_state=42)\n",
        "\n",
        "model = LogisticRegression()\n",
        "\n",
        "model.fit(X_train, y_train)\n",
        "\n",
        "y_pred = model.predict(X_test)\n",
        "\n",
        "accuracy = accuracy_score(y_test, y_pred)\n",
        "print(\"Logistic Regression Accuracy:\", accuracy)\n",
        "\n"
      ],
      "metadata": {
        "id": "GHeClTB5nGa0",
        "colab": {
          "base_uri": "https://localhost:8080/"
        },
        "outputId": "2f1551cf-7d90-48da-ef0c-ca4fb1919a91"
      },
      "execution_count": null,
      "outputs": [
        {
          "output_type": "stream",
          "name": "stdout",
          "text": [
            "Logistic Regression Accuracy: 0.8773584905660378\n"
          ]
        },
        {
          "output_type": "stream",
          "name": "stderr",
          "text": [
            "/usr/local/lib/python3.10/dist-packages/sklearn/linear_model/_logistic.py:458: ConvergenceWarning: lbfgs failed to converge (status=1):\n",
            "STOP: TOTAL NO. of ITERATIONS REACHED LIMIT.\n",
            "\n",
            "Increase the number of iterations (max_iter) or scale the data as shown in:\n",
            "    https://scikit-learn.org/stable/modules/preprocessing.html\n",
            "Please also refer to the documentation for alternative solver options:\n",
            "    https://scikit-learn.org/stable/modules/linear_model.html#logistic-regression\n",
            "  n_iter_i = _check_optimize_result(\n"
          ]
        }
      ]
    },
    {
      "cell_type": "code",
      "source": [
        "import pandas as pd\n",
        "from sklearn.model_selection import train_test_split\n",
        "from sklearn.linear_model import LogisticRegression\n",
        "from sklearn.neighbors import KNeighborsClassifier\n",
        "from sklearn.metrics import accuracy_score\n",
        "\n",
        "# Assuming 'df' is your pandas DataFrame containing the dataset\n",
        "\n",
        "# Splitting the data into features (X) and target (y)\n",
        "X = df.drop(columns=['PCOS (Y/N)'])\n",
        "y = df['PCOS (Y/N)']\n",
        "\n",
        "# Splitting the dataset into training and testing sets\n",
        "X_train, X_test, y_train, y_test = train_test_split(X, y, test_size=0.2, random_state=42)\n",
        "\n",
        "\n",
        "# Training a K-nearest neighbors (KNN) classifier\n",
        "knn_model = KNeighborsClassifier()\n",
        "knn_model.fit(X_train, y_train)\n",
        "\n",
        "# Making predictions with the KNN classifier\n",
        "y_pred_knn = knn_model.predict(X_test)\n",
        "\n",
        "# Calculating accuracy of KNN classifier\n",
        "accuracy_knn = accuracy_score(y_test, y_pred_knn)\n",
        "print(\"KNN Classifier Accuracy:\", accuracy_knn)\n"
      ],
      "metadata": {
        "id": "aZYrX0ZliZWm",
        "colab": {
          "base_uri": "https://localhost:8080/"
        },
        "outputId": "6e0a840f-0458-49d6-ae0c-abe48fac9d29"
      },
      "execution_count": null,
      "outputs": [
        {
          "output_type": "stream",
          "name": "stdout",
          "text": [
            "KNN Classifier Accuracy: 0.7169811320754716\n"
          ]
        }
      ]
    },
    {
      "cell_type": "code",
      "source": [
        "import pandas as pd\n",
        "from sklearn.model_selection import train_test_split\n",
        "from sklearn.naive_bayes import GaussianNB  # Assuming Gaussian Naive Bayes for continuous features\n",
        "from sklearn.metrics import accuracy_score\n",
        "\n",
        "# Assuming df is your DataFrame containing the data\n",
        "\n",
        "X = df.drop(columns=['PCOS (Y/N)'])\n",
        "y = df['PCOS (Y/N)']\n",
        "\n",
        "X_train, X_test, y_train, y_test = train_test_split(X, y, test_size=0.2, random_state=42)\n",
        "\n",
        "# Using Gaussian Naive Bayes\n",
        "model = GaussianNB()\n",
        "\n",
        "model.fit(X_train, y_train)\n",
        "\n",
        "y_pred = model.predict(X_test)\n",
        "\n",
        "accuracy = accuracy_score(y_test, y_pred)\n",
        "print(\"Naive Bayes Accuracy:\", accuracy)\n"
      ],
      "metadata": {
        "id": "XE7WF_-ku-pv",
        "colab": {
          "base_uri": "https://localhost:8080/"
        },
        "outputId": "27a56558-8f82-434a-c944-27c25a35446d"
      },
      "execution_count": null,
      "outputs": [
        {
          "output_type": "stream",
          "name": "stdout",
          "text": [
            "Naive Bayes Accuracy: 0.8490566037735849\n"
          ]
        }
      ]
    },
    {
      "cell_type": "code",
      "source": [
        "import pandas as pd\n",
        "from sklearn.model_selection import train_test_split\n",
        "from sklearn.svm import SVC  # Support Vector Classifier\n",
        "from sklearn.metrics import accuracy_score\n",
        "\n",
        "# Assuming df is your DataFrame containing the data\n",
        "\n",
        "X = df.drop(columns=['PCOS (Y/N)'])\n",
        "y = df['PCOS (Y/N)']\n",
        "\n",
        "X_train, X_test, y_train, y_test = train_test_split(X, y, test_size=0.2, random_state=42)\n",
        "\n",
        "# Using Support Vector Classifier (SVC) with a linear kernel\n",
        "model = SVC(kernel='linear')\n",
        "\n",
        "model.fit(X_train, y_train)\n",
        "\n",
        "y_pred = model.predict(X_test)\n",
        "\n",
        "accuracy = accuracy_score(y_test, y_pred)\n",
        "print(\"SVM Accuracy:\", accuracy)\n"
      ],
      "metadata": {
        "id": "_yMb8z79vGwE",
        "colab": {
          "base_uri": "https://localhost:8080/"
        },
        "outputId": "3ca7bceb-92fe-4fd5-cf6b-6b3299d3035e"
      },
      "execution_count": null,
      "outputs": [
        {
          "output_type": "stream",
          "name": "stdout",
          "text": [
            "SVM Accuracy: 0.8773584905660378\n"
          ]
        }
      ]
    },
    {
      "cell_type": "code",
      "source": [
        "import pandas as pd\n",
        "from sklearn.model_selection import train_test_split\n",
        "from sklearn.tree import DecisionTreeClassifier\n",
        "from sklearn.metrics import accuracy_score\n",
        "\n",
        "# Assuming df is your DataFrame containing the data\n",
        "\n",
        "X = df.drop(columns=['PCOS (Y/N)'])\n",
        "y = df['PCOS (Y/N)']\n",
        "\n",
        "X_train, X_test, y_train, y_test = train_test_split(X, y, test_size=0.2, random_state=42)\n",
        "\n",
        "# Using Decision Tree Classifier\n",
        "model = DecisionTreeClassifier()\n",
        "\n",
        "model.fit(X_train, y_train)\n",
        "\n",
        "y_pred = model.predict(X_test)\n",
        "\n",
        "accuracy = accuracy_score(y_test, y_pred)\n",
        "print(\"Decision Tree Accuracy:\", accuracy)\n"
      ],
      "metadata": {
        "id": "JEGHxY9SvZ7-",
        "colab": {
          "base_uri": "https://localhost:8080/"
        },
        "outputId": "cc75d257-4a42-4ad6-88b2-959a1195ff1c"
      },
      "execution_count": null,
      "outputs": [
        {
          "output_type": "stream",
          "name": "stdout",
          "text": [
            "Decision Tree Accuracy: 0.8490566037735849\n"
          ]
        }
      ]
    },
    {
      "cell_type": "code",
      "source": [
        "import pandas as pd\n",
        "from sklearn.model_selection import train_test_split\n",
        "from sklearn.ensemble import RandomForestClassifier\n",
        "from sklearn.metrics import accuracy_score\n",
        "\n",
        "\n",
        "\n",
        "X = df.drop(columns=['PCOS (Y/N)'])\n",
        "y = df['PCOS (Y/N)']\n",
        "\n",
        "X_train, X_test, y_train, y_test = train_test_split(X, y, test_size=0.2, random_state=42)\n",
        "\n",
        "model = RandomForestClassifier(random_state=42)\n",
        "\n",
        "model.fit(X_train, y_train)\n",
        "\n",
        "y_pred = model.predict(X_test)\n",
        "\n",
        "accuracy = accuracy_score(y_test, y_pred)\n",
        "print(\"Random Forest Classifier Accuracy:\", accuracy)\n"
      ],
      "metadata": {
        "id": "GbJtjPNawInH",
        "colab": {
          "base_uri": "https://localhost:8080/"
        },
        "outputId": "69baae29-dcc7-4720-a18e-4b0a6775442d"
      },
      "execution_count": null,
      "outputs": [
        {
          "output_type": "stream",
          "name": "stdout",
          "text": [
            "Random Forest Classifier Accuracy: 0.9245283018867925\n"
          ]
        }
      ]
    },
    {
      "cell_type": "code",
      "source": [
        "import pandas as pd\n",
        "from sklearn.model_selection import train_test_split\n",
        "from sklearn.linear_model import LogisticRegression\n",
        "from sklearn.ensemble import RandomForestClassifier\n",
        "from sklearn.neighbors import KNeighborsClassifier\n",
        "from sklearn.naive_bayes import GaussianNB\n",
        "from sklearn.svm import SVC\n",
        "from sklearn.tree import DecisionTreeClassifier\n",
        "from sklearn.metrics import accuracy_score\n",
        "import matplotlib.pyplot as plt\n",
        "\n",
        "# Assuming df is your DataFrame containing the data\n",
        "\n",
        "# Splitting the data into features (X) and target (y)\n",
        "X = df.drop(columns=['PCOS (Y/N)'])\n",
        "y = df['PCOS (Y/N)']\n",
        "\n",
        "# Splitting the dataset into training and testing sets\n",
        "X_train, X_test, y_train, y_test = train_test_split(X, y, test_size=0.2, random_state=42)\n",
        "\n",
        "# Initialize models\n",
        "models = {\n",
        "    \"Logistic Regression\": LogisticRegression(),\n",
        "    \"Random Forest\": RandomForestClassifier(random_state=42),\n",
        "    \"KNN\": KNeighborsClassifier(),\n",
        "    \"Naive Bayes\": GaussianNB(),\n",
        "    \"SVM\": SVC(kernel='linear'),\n",
        "    \"Decision Tree\": DecisionTreeClassifier()\n",
        "}\n",
        "\n",
        "# Specify colors for each model\n",
        "colors = ['blue', 'green', 'orange', 'red', 'purple', 'brown']\n",
        "\n",
        "# Train and evaluate each model\n",
        "accuracies = {}\n",
        "for idx, (name, model) in enumerate(models.items()):\n",
        "    model.fit(X_train, y_train)\n",
        "    y_pred = model.predict(X_test)\n",
        "    accuracy = accuracy_score(y_test, y_pred)\n",
        "    accuracies[name] = accuracy\n",
        "\n",
        "# Plot the accuracies\n",
        "plt.figure(figsize=(12, 6))\n",
        "plt.bar(accuracies.keys(), accuracies.values(), color=colors)\n",
        "plt.xlabel('Model')\n",
        "plt.ylabel('Accuracy')\n",
        "plt.title('Model Accuracy Comparison')\n",
        "plt.ylim(0, 1)  # Set y-axis limit from 0 to 1\n",
        "plt.xticks(rotation=45, ha='right')  # Rotate x-axis labels for better readability\n",
        "plt.tight_layout()\n",
        "plt.show()\n",
        "\n"
      ],
      "metadata": {
        "id": "LPADnABQzgpu",
        "colab": {
          "base_uri": "https://localhost:8080/",
          "height": 746
        },
        "outputId": "bab7293b-2cb8-4b32-a9d1-92246432cb28"
      },
      "execution_count": null,
      "outputs": [
        {
          "output_type": "stream",
          "name": "stderr",
          "text": [
            "/usr/local/lib/python3.10/dist-packages/sklearn/linear_model/_logistic.py:458: ConvergenceWarning: lbfgs failed to converge (status=1):\n",
            "STOP: TOTAL NO. of ITERATIONS REACHED LIMIT.\n",
            "\n",
            "Increase the number of iterations (max_iter) or scale the data as shown in:\n",
            "    https://scikit-learn.org/stable/modules/preprocessing.html\n",
            "Please also refer to the documentation for alternative solver options:\n",
            "    https://scikit-learn.org/stable/modules/linear_model.html#logistic-regression\n",
            "  n_iter_i = _check_optimize_result(\n"
          ]
        },
        {
          "output_type": "display_data",
          "data": {
            "text/plain": [
              "<Figure size 1200x600 with 1 Axes>"
            ],
            "image/png": "[encoded data removed]"
          },
          "metadata": {}
        }
      ]
    },
    {
      "cell_type": "code",
      "source": [
        "import pandas as pd\n",
        "from sklearn.model_selection import train_test_split\n",
        "from sklearn.ensemble import RandomForestClassifier, VotingClassifier\n",
        "from sklearn.metrics import accuracy_score\n",
        "\n",
        "# Assuming df is your DataFrame containing the data\n",
        "\n",
        "# Splitting the data into features (X) and target (y)\n",
        "X = df.drop(columns=['PCOS (Y/N)'])\n",
        "y = df['PCOS (Y/N)']\n",
        "\n",
        "# Splitting the dataset into training and testing sets\n",
        "X_train, X_test, y_train, y_test = train_test_split(X, y, test_size=0.2, random_state=42)\n",
        "\n",
        "# Initialize Random Forest classifier\n",
        "rf = RandomForestClassifier(random_state=42)\n",
        "\n",
        "# Define the voting classifier with 'hard' voting\n",
        "voting_clf = VotingClassifier(estimators=[\n",
        "    ('rf', rf)\n",
        "], voting='hard')\n",
        "\n",
        "# Train the voting classifier\n",
        "voting_clf.fit(X_train, y_train)\n",
        "\n",
        "# Make predictions on the test set\n",
        "y_pred_voting = voting_clf.predict(X_test)\n",
        "\n",
        "# Calculate accuracy of the voting classifier\n",
        "accuracy_voting = accuracy_score(y_test, y_pred_voting)\n",
        "print(\"Voting Classifier (Random Forest only) Accuracy:\", accuracy_voting)\n",
        "\n"
      ],
      "metadata": {
        "id": "fppHbDvZ3n4E",
        "colab": {
          "base_uri": "https://localhost:8080/"
        },
        "outputId": "8bed5131-d5ea-4e55-a6ce-abaefbb6c2d6"
      },
      "execution_count": null,
      "outputs": [
        {
          "output_type": "stream",
          "name": "stdout",
          "text": [
            "Voting Classifier (Random Forest only) Accuracy: 0.9245283018867925\n"
          ]
        }
      ]
    },
    {
      "cell_type": "code",
      "source": [
        "from sklearn.metrics import precision_score, recall_score, f1_score, confusion_matrix\n",
        "\n",
        "precision = precision_score(y_test, y_pred)\n",
        "recall = recall_score(y_test, y_pred)\n",
        "f1 = f1_score(y_test, y_pred)\n",
        "confusion_mat = confusion_matrix(y_test, y_pred)\n",
        "\n",
        "print(\"Precision:\", precision)\n",
        "print(\"Recall:\", recall)\n",
        "print(\"F1 Score:\", f1)\n",
        "print(\"Confusion Matrix:\\n\", confusion_mat)\n"
      ],
      "metadata": {
        "id": "Z9J0jQ34fX6_",
        "colab": {
          "base_uri": "https://localhost:8080/"
        },
        "outputId": "427fc764-e731-41fc-8a63-3c523660e9b1"
      },
      "execution_count": null,
      "outputs": [
        {
          "output_type": "stream",
          "name": "stdout",
          "text": [
            "Precision: 0.7428571428571429\n",
            "Recall: 0.7878787878787878\n",
            "F1 Score: 0.7647058823529412\n",
            "Confusion Matrix:\n",
            " [[64  9]\n",
            " [ 7 26]]\n"
          ]
        }
      ]
    },
    {
      "cell_type": "code",
      "source": [
        "if hasattr(model, 'coef_'):\n",
        "    feature_importance = dict(zip(X.columns, model.coef_[0]))\n",
        "else:\n",
        "    # For models without coefficients (e.g., tree-based models)\n",
        "    feature_importance = dict(zip(X.columns, model.feature_importances_))\n",
        "\n",
        "print(\"Feature Importance:\\n\", feature_importance)\n"
      ],
      "metadata": {
        "id": "ELUJ3qSOfXhe",
        "colab": {
          "base_uri": "https://localhost:8080/"
        },
        "outputId": "526836ac-9a50-4808-946a-1a8ccd4ee014"
      },
      "execution_count": null,
      "outputs": [
        {
          "output_type": "stream",
          "name": "stdout",
          "text": [
            "Feature Importance:\n",
            " {' Age (yrs)': 0.032741412503799784, 'Weight (Kg)': 0.010232460536248126, 'Height(Cm) ': 0.0, 'BMI': 0.0, 'Blood Group': 0.007143580909919952, 'Pulse rate(bpm) ': 0.005295747119637209, 'RR (breaths/min)': 0.0, 'Hb(g/dl)': 0.0, 'Cycle(R/I)': 0.011323760103186163, 'Cycle length(days)': 0.031967524571891795, 'Marraige Status (Yrs)': 0.016073057047319893, 'Pregnant(Y/N)': 0.0, 'No. of aborptions': 0.009184604027039942, 'FSH(mIU/mL)': 0.022675007755043795, 'LH(mIU/mL)': 0.010249485653363413, 'Hip(inch)': 0.029598301609783825, 'Waist(inch)': 0.0, 'TSH (mIU/L)': 0.034254135997743664, 'AMH(ng/mL)': 0.02134263404681018, 'PRL(ng/mL)': 0.0, 'Vit D3 (ng/mL)': 0.0, 'PRG(ng/mL)': 0.016073057047319893, 'RBS(mg/dl)': 0.0, 'Weight gain(Y/N)': 0.08995945312853561, 'hair growth(Y/N)': 0.07837053724689097, 'Skin darkening (Y/N)': 0.0, 'Hair loss(Y/N)': 0.0, 'Pimples(Y/N)': 0.0, 'Fast food (Y/N)': 0.005357685682439965, 'Reg.Exercise(Y/N)': 0.0, 'BP _Systolic (mmHg)': 0.0, 'BP _Diastolic (mmHg)': 0.0, 'Follicle No. (L)': 0.057746655057383446, 'Follicle No. (R)': 0.44318780836236393, 'Avg. F size (L) (mm)': 0.03338250309827978, 'Avg. F size (R) (mm)': 0.033840588494998776, 'Endometrium (mm)': 0.0}\n"
          ]
        }
      ]
    },
    {
      "cell_type": "code",
      "source": [
        "from sklearn.model_selection import cross_val_score\n",
        "\n",
        "cv_scores = cross_val_score(model, X, y, cv=5)  # Adjust cv as needed\n",
        "print(\"Cross-Validation Scores:\", cv_scores)\n",
        "print(\"Mean CV Accuracy:\", cv_scores.mean())\n"
      ],
      "metadata": {
        "id": "wwYg9KYhfwZj",
        "colab": {
          "base_uri": "https://localhost:8080/"
        },
        "outputId": "9c3961fd-ceff-4cc0-90c5-ce3de72db51b"
      },
      "execution_count": null,
      "outputs": [
        {
          "output_type": "stream",
          "name": "stdout",
          "text": [
            "Cross-Validation Scores: [0.86792453 0.83018868 0.77358491 0.87735849 0.7047619 ]\n",
            "Mean CV Accuracy: 0.810763701707098\n"
          ]
        }
      ]
    },
    {
      "cell_type": "code",
      "source": [
        "from sklearn.metrics import precision_score, recall_score, f1_score, confusion_matrix\n",
        "from sklearn.ensemble import RandomForestClassifier\n",
        "from sklearn.model_selection import cross_val_score\n",
        "\n",
        "# Assuming you've already trained and evaluated the Random Forest model\n",
        "model = RandomForestClassifier(random_state=42)\n",
        "model.fit(X_train, y_train)\n",
        "y_pred = model.predict(X_test)\n",
        "\n",
        "# Evaluation metrics\n",
        "precision = precision_score(y_test, y_pred)\n",
        "recall = recall_score(y_test, y_pred)\n",
        "f1 = f1_score(y_test, y_pred)\n",
        "confusion_mat = confusion_matrix(y_test, y_pred)\n",
        "\n",
        "print(\"Precision:\", precision)\n",
        "print(\"Recall:\", recall)\n",
        "print(\"F1 Score:\", f1)\n",
        "print(\"Confusion Matrix:\\n\", confusion_mat)\n"
      ],
      "metadata": {
        "id": "QCl9jsa6mAxC",
        "colab": {
          "base_uri": "https://localhost:8080/"
        },
        "outputId": "e05701d1-ca7b-43b2-ed8b-e10d6972d22f"
      },
      "execution_count": null,
      "outputs": [
        {
          "output_type": "stream",
          "name": "stdout",
          "text": [
            "Precision: 0.9032258064516129\n",
            "Recall: 0.8484848484848485\n",
            "F1 Score: 0.875\n",
            "Confusion Matrix:\n",
            " [[70  3]\n",
            " [ 5 28]]\n"
          ]
        }
      ]
    },
    {
      "cell_type": "code",
      "source": [
        "# Feature Importance for Random Forest\n",
        "feature_importance = dict(zip(X.columns, model.feature_importances_))\n",
        "print(\"Feature Importance:\\n\", feature_importance)"
      ],
      "metadata": {
        "id": "ymu6byTGmSj_",
        "colab": {
          "base_uri": "https://localhost:8080/"
        },
        "outputId": "8797eff2-72fd-4ed5-c09b-f23cd363ecac"
      },
      "execution_count": null,
      "outputs": [
        {
          "output_type": "stream",
          "name": "stdout",
          "text": [
            "Feature Importance:\n",
            " {' Age (yrs)': 0.024529152118597956, 'Weight (Kg)': 0.019018672284786944, 'Height(Cm) ': 0.01802642905995049, 'BMI': 0.022403631957116383, 'Blood Group': 0.008672030141561283, 'Pulse rate(bpm) ': 0.009184530378974124, 'RR (breaths/min)': 0.004340459694513765, 'Hb(g/dl)': 0.01825237218617607, 'Cycle(R/I)': 0.021499318456096303, 'Cycle length(days)': 0.032907123637055676, 'Marraige Status (Yrs)': 0.02298551744904097, 'Pregnant(Y/N)': 0.0028653716530265, 'No. of aborptions': 0.0033477961262036397, 'FSH(mIU/mL)': 0.022460910190545937, 'LH(mIU/mL)': 0.024928743450140917, 'Hip(inch)': 0.020656050991470075, 'Waist(inch)': 0.01518498205700701, 'TSH (mIU/L)': 0.017387666566117364, 'AMH(ng/mL)': 0.034193972624910356, 'PRL(ng/mL)': 0.019013188115636053, 'Vit D3 (ng/mL)': 0.01539365052331082, 'PRG(ng/mL)': 0.015414300061426502, 'RBS(mg/dl)': 0.015022712073867859, 'Weight gain(Y/N)': 0.04127477219891757, 'hair growth(Y/N)': 0.05487557704769376, 'Skin darkening (Y/N)': 0.05467048033499015, 'Hair loss(Y/N)': 0.004052889346000747, 'Pimples(Y/N)': 0.013173009940133725, 'Fast food (Y/N)': 0.022073413157902455, 'Reg.Exercise(Y/N)': 0.004635924727957061, 'BP _Systolic (mmHg)': 0.005355360301081445, 'BP _Diastolic (mmHg)': 0.00245758568585297, 'Follicle No. (L)': 0.12520035951287253, 'Follicle No. (R)': 0.21947716019279037, 'Avg. F size (L) (mm)': 0.017130619554916838, 'Avg. F size (R) (mm)': 0.013859736004990854, 'Endometrium (mm)': 0.0140745301963666}\n"
          ]
        }
      ]
    },
    {
      "cell_type": "code",
      "source": [
        "# Cross-Validation Scores for Random Forest\n",
        "cv_scores = cross_val_score(model, X, y, cv=5)  # Adjust cv as needed\n",
        "print(\"Cross-Validation Scores:\", cv_scores)\n",
        "print(\"Mean CV Accuracy:\", cv_scores.mean())"
      ],
      "metadata": {
        "id": "sHbWz5mqmcu3",
        "colab": {
          "base_uri": "https://localhost:8080/"
        },
        "outputId": "38126b2a-4d32-407c-b43b-24a0907dda19"
      },
      "execution_count": null,
      "outputs": [
        {
          "output_type": "stream",
          "name": "stdout",
          "text": [
            "Cross-Validation Scores: [0.88679245 0.88679245 0.83962264 0.9245283  0.82857143]\n",
            "Mean CV Accuracy: 0.8732614555256065\n"
          ]
        }
      ]
    },
    {
      "cell_type": "code",
      "source": [
        "import pandas as pd\n",
        "from sklearn.model_selection import train_test_split\n",
        "from sklearn.ensemble import RandomForestClassifier\n",
        "from sklearn.metrics import accuracy_score\n",
        "\n",
        "# Assuming you have a DataFrame named 'df' with 530 rows\n",
        "# Replace 'your_dataset.csv' with your actual file path or data\n",
        "# df = pd.read_csv('your_dataset.csv')\n",
        "\n",
        "# Assuming 'PCOS (Y/N)' is your target variable\n",
        "X = df.drop(columns=['PCOS (Y/N)'])\n",
        "y = df['PCOS (Y/N)']\n",
        "\n",
        "# Split the data into training and testing sets\n",
        "X_train, X_test, y_train, y_test = train_test_split(X, y, test_size=0.2, random_state=42)\n",
        "\n",
        "# Print the indices of the rows in the training set\n",
        "print(\"Rows in the training set:\")\n",
        "print(X_train.index)\n",
        "\n",
        "# Create and train the model\n",
        "model = RandomForestClassifier(random_state=42)\n",
        "model.fit(X_train, y_train)\n",
        "\n",
        "# Make predictions on the test set\n",
        "y_pred = model.predict(X_test)\n",
        "\n",
        "# Evaluate model accuracy\n",
        "accuracy = accuracy_score(y_test, y_pred)\n",
        "print(\"Random Forest Classifier Accuracy:\", accuracy)\n"
      ],
      "metadata": {
        "id": "91DywFlg1DBP",
        "colab": {
          "base_uri": "https://localhost:8080/"
        },
        "outputId": "49f173a3-b6f1-498e-a11b-28e5d703df2c"
      },
      "execution_count": null,
      "outputs": [
        {
          "output_type": "stream",
          "name": "stdout",
          "text": [
            "Rows in the training set:\n",
            "Index([137, 525, 416, 371,  69, 369, 312, 368, 357, 173,\n",
            "       ...\n",
            "       330, 214, 466, 121,  20,  71, 106, 270, 435, 102],\n",
            "      dtype='int64', length=423)\n",
            "Random Forest Classifier Accuracy: 0.9245283018867925\n"
          ]
        }
      ]
    },
    {
      "cell_type": "code",
      "source": [
        "# Assuming df is your original DataFrame with 530 rows\n",
        "# Use the indices of the training set to get the complement (rows not used in training)\n",
        "test_indices = df.index.difference(X_train.index)\n",
        "\n",
        "# Create the testing set\n",
        "X_test = X.loc[test_indices]\n",
        "y_test = y.loc[test_indices]\n",
        "\n",
        "# Make predictions on the testing set\n",
        "y_test_pred = model.predict(X_test)\n",
        "\n",
        "# Evaluate model accuracy on the testing set\n",
        "accuracy_test = accuracy_score(y_test, y_test_pred)\n",
        "print(\"Random Forest Classifier Accuracy on the testing data:\", accuracy_test)\n"
      ],
      "metadata": {
        "id": "DeAIO1TF3scH",
        "colab": {
          "base_uri": "https://localhost:8080/"
        },
        "outputId": "e1057b6a-4b77-46c3-e9a7-1ab631ffce83"
      },
      "execution_count": null,
      "outputs": [
        {
          "output_type": "stream",
          "name": "stdout",
          "text": [
            "Random Forest Classifier Accuracy on the testing data: 0.9245283018867925\n"
          ]
        }
      ]
    },
    {
      "cell_type": "code",
      "source": [
        "import matplotlib.pyplot as plt\n",
        "from sklearn.metrics import confusion_matrix, roc_curve, auc\n",
        "\n",
        "# Plot Confusion Matrix for Training Data\n",
        "plt.figure(figsize=(12, 4))\n",
        "plt.subplot(1, 2, 1)\n",
        "\n",
        "# Confusion Matrix for Training Data\n",
        "cm_train = confusion_matrix(y_train, model.predict(X_train))\n",
        "plt.imshow(cm_train, interpolation='nearest', cmap=plt.cm.Blues)\n",
        "plt.title('Confusion Matrix - Training Data')\n",
        "plt.colorbar()\n",
        "\n",
        "classes = ['No PCOS', 'PCOS']\n",
        "tick_marks = [0.5, 1.5]\n",
        "plt.xticks(tick_marks, classes)\n",
        "plt.yticks(tick_marks, classes)\n",
        "\n",
        "plt.xlabel('Predicted label')\n",
        "plt.ylabel('True label')\n",
        "\n",
        "# Add text annotations to the plot\n",
        "for i in range(2):\n",
        "    for j in range(2):\n",
        "        plt.text(j, i, str(cm_train[i, j]), ha='center', va='center')\n",
        "\n",
        "# Plot ROC Curve for Testing Data\n",
        "plt.subplot(1, 2, 2)\n",
        "\n",
        "# Get the predicted probabilities for the positive class\n",
        "y_prob = model.predict_proba(X_test)[:, 1]\n",
        "\n",
        "# Compute ROC curve and ROC area for each class\n",
        "fpr, tpr, _ = roc_curve(y_test, y_prob)\n",
        "roc_auc = auc(fpr, tpr)\n",
        "\n",
        "plt.plot(fpr, tpr, color='darkorange', lw=2, label='ROC curve (area = {:.2f})'.format(roc_auc))\n",
        "plt.plot([0, 1], [0, 1], color='navy', lw=2, linestyle='--')\n",
        "plt.xlim([0.0, 1.0])\n",
        "plt.ylim([0.0, 1.05])\n",
        "plt.xlabel('False Positive Rate')\n",
        "plt.ylabel('True Positive Rate')\n",
        "plt.title('Receiver Operating Characteristic - Testing Data')\n",
        "plt.legend(loc=\"lower right\")\n",
        "\n",
        "plt.tight_layout()\n",
        "plt.show()\n"
      ],
      "metadata": {
        "id": "6kSslYOQ6k1S",
        "colab": {
          "base_uri": "https://localhost:8080/",
          "height": 407
        },
        "outputId": "86ee2f78-38b7-4ddd-db5a-f615abc25c38"
      },
      "execution_count": null,
      "outputs": [
        {
          "output_type": "display_data",
          "data": {
            "text/plain": [
              "<Figure size 1200x400 with 3 Axes>"
            ],
            "image/png": "[encoded data removed]"
          },
          "metadata": {}
        }
      ]
    },
    {
      "cell_type": "code",
      "source": [
        "import matplotlib.pyplot as plt\n",
        "\n",
        "# Your existing code for model training and testing\n",
        "\n",
        "# Train-test split\n",
        "X_train, X_test, y_train, y_test = train_test_split(X, y, test_size=0.2, random_state=42)\n",
        "\n",
        "# Initialize the model\n",
        "model = RandomForestClassifier(random_state=42)\n",
        "\n",
        "# Lists to store training and testing accuracies\n",
        "train_accuracies = []\n",
        "test_accuracies = []\n",
        "\n",
        "# Train the model for multiple iterations\n",
        "for i in range(1, 101):  # Change the range according to your needs\n",
        "    model.fit(X_train, y_train)\n",
        "\n",
        "    # Calculate training accuracy\n",
        "    y_train_pred = model.predict(X_train)\n",
        "    train_accuracy = accuracy_score(y_train, y_train_pred)\n",
        "    train_accuracies.append(train_accuracy)\n",
        "\n",
        "    # Calculate testing accuracy\n",
        "    y_test_pred = model.predict(X_test)\n",
        "    test_accuracy = accuracy_score(y_test, y_test_pred)\n",
        "    test_accuracies.append(test_accuracy)\n",
        "\n",
        "    # Optionally, you can print the accuracy for each iteration\n",
        "    print(f\"Iteration {i}: Training Accuracy - {train_accuracy:.4f}, Testing Accuracy - {test_accuracy:.4f}\")\n",
        "\n",
        "# Plotting the training and testing accuracies\n",
        "plt.figure(figsize=(10, 6))\n",
        "plt.plot(range(1, 101), train_accuracies, label='Training Accuracy')\n",
        "plt.plot(range(1, 101), test_accuracies, label='Testing Accuracy')\n",
        "plt.xlabel('Iterations')\n",
        "plt.ylabel('Accuracy')\n",
        "plt.title('Training and Testing Accuracy Over Iterations')\n",
        "plt.legend()\n",
        "plt.show()\n"
      ],
      "metadata": {
        "id": "uo7GMzvK7TtZ",
        "colab": {
          "base_uri": "https://localhost:8080/",
          "height": 1000
        },
        "outputId": "ff5332b3-4d6f-48d5-fe1e-1bf38a9fe57c"
      },
      "execution_count": null,
      "outputs": [
        {
          "output_type": "stream",
          "name": "stdout",
          "text": [
            "Iteration 1: Training Accuracy - 1.0000, Testing Accuracy - 0.9245\n",
            "Iteration 2: Training Accuracy - 1.0000, Testing Accuracy - 0.9245\n",
            "Iteration 3: Training Accuracy - 1.0000, Testing Accuracy - 0.9245\n",
            "Iteration 4: Training Accuracy - 1.0000, Testing Accuracy - 0.9245\n",
            "Iteration 5: Training Accuracy - 1.0000, Testing Accuracy - 0.9245\n",
            "Iteration 6: Training Accuracy - 1.0000, Testing Accuracy - 0.9245\n",
            "Iteration 7: Training Accuracy - 1.0000, Testing Accuracy - 0.9245\n",
            "Iteration 8: Training Accuracy - 1.0000, Testing Accuracy - 0.9245\n",
            "Iteration 9: Training Accuracy - 1.0000, Testing Accuracy - 0.9245\n",
            "Iteration 10: Training Accuracy - 1.0000, Testing Accuracy - 0.9245\n",
            "Iteration 11: Training Accuracy - 1.0000, Testing Accuracy - 0.9245\n",
            "Iteration 12: Training Accuracy - 1.0000, Testing Accuracy - 0.9245\n",
            "Iteration 13: Training Accuracy - 1.0000, Testing Accuracy - 0.9245\n",
            "Iteration 14: Training Accuracy - 1.0000, Testing Accuracy - 0.9245\n",
            "Iteration 15: Training Accuracy - 1.0000, Testing Accuracy - 0.9245\n",
            "Iteration 16: Training Accuracy - 1.0000, Testing Accuracy - 0.9245\n",
            "Iteration 17: Training Accuracy - 1.0000, Testing Accuracy - 0.9245\n",
            "Iteration 18: Training Accuracy - 1.0000, Testing Accuracy - 0.9245\n",
            "Iteration 19: Training Accuracy - 1.0000, Testing Accuracy - 0.9245\n",
            "Iteration 20: Training Accuracy - 1.0000, Testing Accuracy - 0.9245\n",
            "Iteration 21: Training Accuracy - 1.0000, Testing Accuracy - 0.9245\n",
            "Iteration 22: Training Accuracy - 1.0000, Testing Accuracy - 0.9245\n",
            "Iteration 23: Training Accuracy - 1.0000, Testing Accuracy - 0.9245\n",
            "Iteration 24: Training Accuracy - 1.0000, Testing Accuracy - 0.9245\n",
            "Iteration 25: Training Accuracy - 1.0000, Testing Accuracy - 0.9245\n",
            "Iteration 26: Training Accuracy - 1.0000, Testing Accuracy - 0.9245\n",
            "Iteration 27: Training Accuracy - 1.0000, Testing Accuracy - 0.9245\n",
            "Iteration 28: Training Accuracy - 1.0000, Testing Accuracy - 0.9245\n",
            "Iteration 29: Training Accuracy - 1.0000, Testing Accuracy - 0.9245\n",
            "Iteration 30: Training Accuracy - 1.0000, Testing Accuracy - 0.9245\n",
            "Iteration 31: Training Accuracy - 1.0000, Testing Accuracy - 0.9245\n",
            "Iteration 32: Training Accuracy - 1.0000, Testing Accuracy - 0.9245\n",
            "Iteration 33: Training Accuracy - 1.0000, Testing Accuracy - 0.9245\n",
            "Iteration 34: Training Accuracy - 1.0000, Testing Accuracy - 0.9245\n",
            "Iteration 35: Training Accuracy - 1.0000, Testing Accuracy - 0.9245\n",
            "Iteration 36: Training Accuracy - 1.0000, Testing Accuracy - 0.9245\n",
            "Iteration 37: Training Accuracy - 1.0000, Testing Accuracy - 0.9245\n",
            "Iteration 38: Training Accuracy - 1.0000, Testing Accuracy - 0.9245\n",
            "Iteration 39: Training Accuracy - 1.0000, Testing Accuracy - 0.9245\n",
            "Iteration 40: Training Accuracy - 1.0000, Testing Accuracy - 0.9245\n",
            "Iteration 41: Training Accuracy - 1.0000, Testing Accuracy - 0.9245\n",
            "Iteration 42: Training Accuracy - 1.0000, Testing Accuracy - 0.9245\n",
            "Iteration 43: Training Accuracy - 1.0000, Testing Accuracy - 0.9245\n",
            "Iteration 44: Training Accuracy - 1.0000, Testing Accuracy - 0.9245\n",
            "Iteration 45: Training Accuracy - 1.0000, Testing Accuracy - 0.9245\n",
            "Iteration 46: Training Accuracy - 1.0000, Testing Accuracy - 0.9245\n",
            "Iteration 47: Training Accuracy - 1.0000, Testing Accuracy - 0.9245\n",
            "Iteration 48: Training Accuracy - 1.0000, Testing Accuracy - 0.9245\n",
            "Iteration 49: Training Accuracy - 1.0000, Testing Accuracy - 0.9245\n",
            "Iteration 50: Training Accuracy - 1.0000, Testing Accuracy - 0.9245\n",
            "Iteration 51: Training Accuracy - 1.0000, Testing Accuracy - 0.9245\n",
            "Iteration 52: Training Accuracy - 1.0000, Testing Accuracy - 0.9245\n",
            "Iteration 53: Training Accuracy - 1.0000, Testing Accuracy - 0.9245\n",
            "Iteration 54: Training Accuracy - 1.0000, Testing Accuracy - 0.9245\n",
            "Iteration 55: Training Accuracy - 1.0000, Testing Accuracy - 0.9245\n",
            "Iteration 56: Training Accuracy - 1.0000, Testing Accuracy - 0.9245\n",
            "Iteration 57: Training Accuracy - 1.0000, Testing Accuracy - 0.9245\n",
            "Iteration 58: Training Accuracy - 1.0000, Testing Accuracy - 0.9245\n",
            "Iteration 59: Training Accuracy - 1.0000, Testing Accuracy - 0.9245\n",
            "Iteration 60: Training Accuracy - 1.0000, Testing Accuracy - 0.9245\n",
            "Iteration 61: Training Accuracy - 1.0000, Testing Accuracy - 0.9245\n",
            "Iteration 62: Training Accuracy - 1.0000, Testing Accuracy - 0.9245\n",
            "Iteration 63: Training Accuracy - 1.0000, Testing Accuracy - 0.9245\n",
            "Iteration 64: Training Accuracy - 1.0000, Testing Accuracy - 0.9245\n",
            "Iteration 65: Training Accuracy - 1.0000, Testing Accuracy - 0.9245\n",
            "Iteration 66: Training Accuracy - 1.0000, Testing Accuracy - 0.9245\n",
            "Iteration 67: Training Accuracy - 1.0000, Testing Accuracy - 0.9245\n",
            "Iteration 68: Training Accuracy - 1.0000, Testing Accuracy - 0.9245\n",
            "Iteration 69: Training Accuracy - 1.0000, Testing Accuracy - 0.9245\n",
            "Iteration 70: Training Accuracy - 1.0000, Testing Accuracy - 0.9245\n",
            "Iteration 71: Training Accuracy - 1.0000, Testing Accuracy - 0.9245\n",
            "Iteration 72: Training Accuracy - 1.0000, Testing Accuracy - 0.9245\n",
            "Iteration 73: Training Accuracy - 1.0000, Testing Accuracy - 0.9245\n",
            "Iteration 74: Training Accuracy - 1.0000, Testing Accuracy - 0.9245\n",
            "Iteration 75: Training Accuracy - 1.0000, Testing Accuracy - 0.9245\n",
            "Iteration 76: Training Accuracy - 1.0000, Testing Accuracy - 0.9245\n",
            "Iteration 77: Training Accuracy - 1.0000, Testing Accuracy - 0.9245\n",
            "Iteration 78: Training Accuracy - 1.0000, Testing Accuracy - 0.9245\n",
            "Iteration 79: Training Accuracy - 1.0000, Testing Accuracy - 0.9245\n",
            "Iteration 80: Training Accuracy - 1.0000, Testing Accuracy - 0.9245\n",
            "Iteration 81: Training Accuracy - 1.0000, Testing Accuracy - 0.9245\n",
            "Iteration 82: Training Accuracy - 1.0000, Testing Accuracy - 0.9245\n",
            "Iteration 83: Training Accuracy - 1.0000, Testing Accuracy - 0.9245\n",
            "Iteration 84: Training Accuracy - 1.0000, Testing Accuracy - 0.9245\n",
            "Iteration 85: Training Accuracy - 1.0000, Testing Accuracy - 0.9245\n",
            "Iteration 86: Training Accuracy - 1.0000, Testing Accuracy - 0.9245\n",
            "Iteration 87: Training Accuracy - 1.0000, Testing Accuracy - 0.9245\n",
            "Iteration 88: Training Accuracy - 1.0000, Testing Accuracy - 0.9245\n",
            "Iteration 89: Training Accuracy - 1.0000, Testing Accuracy - 0.9245\n",
            "Iteration 90: Training Accuracy - 1.0000, Testing Accuracy - 0.9245\n",
            "Iteration 91: Training Accuracy - 1.0000, Testing Accuracy - 0.9245\n",
            "Iteration 92: Training Accuracy - 1.0000, Testing Accuracy - 0.9245\n",
            "Iteration 93: Training Accuracy - 1.0000, Testing Accuracy - 0.9245\n",
            "Iteration 94: Training Accuracy - 1.0000, Testing Accuracy - 0.9245\n",
            "Iteration 95: Training Accuracy - 1.0000, Testing Accuracy - 0.9245\n",
            "Iteration 96: Training Accuracy - 1.0000, Testing Accuracy - 0.9245\n",
            "Iteration 97: Training Accuracy - 1.0000, Testing Accuracy - 0.9245\n",
            "Iteration 98: Training Accuracy - 1.0000, Testing Accuracy - 0.9245\n",
            "Iteration 99: Training Accuracy - 1.0000, Testing Accuracy - 0.9245\n",
            "Iteration 100: Training Accuracy - 1.0000, Testing Accuracy - 0.9245\n"
          ]
        },
        {
          "output_type": "display_data",
          "data": {
            "text/plain": [
              "<Figure size 1000x600 with 1 Axes>"
            ],
            "image/png": "[encoded data removed]"
          },
          "metadata": {}
        }
      ]
    },
    {
      "cell_type": "code",
      "source": [
        "import pandas as pd\n",
        "from sklearn.model_selection import train_test_split\n",
        "from sklearn.ensemble import RandomForestClassifier\n",
        "from sklearn.metrics import accuracy_score\n",
        "import matplotlib.pyplot as plt\n",
        "\n",
        "# Assuming df is your original DataFrame with 530 rows\n",
        "# Your code for preparing the data and training the model goes here...\n",
        "\n",
        "# Train dataset\n",
        "X_train, X_test, y_train, y_test = train_test_split(X, y, test_size=0.2, random_state=42)\n",
        "model = RandomForestClassifier(random_state=42)\n",
        "model.fit(X_train, y_train)\n",
        "y_train_pred = model.predict(X_train)\n",
        "accuracy_train = accuracy_score(y_train, y_train_pred)\n",
        "\n",
        "# Test dataset\n",
        "test_indices = df.index.difference(X_train.index)\n",
        "X_test = X.loc[test_indices]\n",
        "y_test = y.loc[test_indices]\n",
        "y_test_pred = model.predict(X_test)\n",
        "accuracy_test = accuracy_score(y_test, y_test_pred)\n",
        "\n",
        "# Plotting the bar graph\n",
        "labels = ['Training', 'Testing']\n",
        "accuracies = [accuracy_train, accuracy_test]\n",
        "\n",
        "plt.bar(labels, accuracies, color=['blue', 'green'])\n",
        "plt.title('Random Forest Classifier Accuracy')\n",
        "plt.xlabel('Dataset')\n",
        "plt.ylabel('Accuracy')\n",
        "plt.show()\n"
      ],
      "metadata": {
        "id": "3zbLAmdL7mXP",
        "colab": {
          "base_uri": "https://localhost:8080/",
          "height": 472
        },
        "outputId": "50f62c1b-8ea0-4141-ff2c-199a34e059e5"
      },
      "execution_count": null,
      "outputs": [
        {
          "output_type": "display_data",
          "data": {
            "text/plain": [
              "<Figure size 640x480 with 1 Axes>"
            ],
            "image/png": "[encoded data removed]"
          },
          "metadata": {}
        }
      ]
    },
    {
      "cell_type": "code",
      "source": [
        "row = df.iloc[3]\n",
        "new_df = pd.DataFrame([row])\n",
        "#new_df.head()\n",
        "X_new = new_df.drop(columns=['PCOS (Y/N)'])\n",
        "X_new.head()\n"
      ],
      "metadata": {
        "id": "1sx7f3GwXgC_",
        "colab": {
          "base_uri": "https://localhost:8080/",
          "height": 200
        },
        "outputId": "9357286f-fac3-4adf-b5eb-8595b2065385"
      },
      "execution_count": null,
      "outputs": [
        {
          "output_type": "execute_result",
          "data": {
            "text/plain": [
              "    Age (yrs)  Weight (Kg)  Height(Cm)         BMI  Blood Group  \\\n",
              "3        37.0         65.0        148.0  29.674945         13.0   \n",
              "\n",
              "   Pulse rate(bpm)   RR (breaths/min)  Hb(g/dl)  Cycle(R/I)  \\\n",
              "3              72.0              20.0      12.0         2.0   \n",
              "\n",
              "   Cycle length(days)  ...  Pimples(Y/N)  Fast food (Y/N)  Reg.Exercise(Y/N)  \\\n",
              "3                 5.0  ...           0.0              0.0                0.0   \n",
              "\n",
              "   BP _Systolic (mmHg)  BP _Diastolic (mmHg)  Follicle No. (L)  \\\n",
              "3                120.0                  70.0               2.0   \n",
              "\n",
              "   Follicle No. (R)  Avg. F size (L) (mm)  Avg. F size (R) (mm)  \\\n",
              "3               2.0                  15.0                  14.0   \n",
              "\n",
              "   Endometrium (mm)  \n",
              "3               7.5  \n",
              "\n",
              "[1 rows x 37 columns]"
            ],
            "text/html": [
              "\n",
              "  <div id=\"df-694a79e0-676d-4c38-93a8-6be0c4cfded5\" class=\"colab-df-container\">\n",
              "    <div>\n",
              "<style scoped>\n",
              "    .dataframe tbody tr th:only-of-type {\n",
              "        vertical-align: middle;\n",
              "    }\n",
              "\n",
              "    .dataframe tbody tr th {\n",
              "        vertical-align: top;\n",
              "    }\n",
              "\n",
              "    .dataframe thead th {\n",
              "        text-align: right;\n",
              "    }\n",
              "</style>\n",
              "<table border=\"1\" class=\"dataframe\">\n",
              "  <thead>\n",
              "    <tr style=\"text-align: right;\">\n",
              "      <th></th>\n",
              "      <th>Age (yrs)</th>\n",
              "      <th>Weight (Kg)</th>\n",
              "      <th>Height(Cm)</th>\n",
              "      <th>BMI</th>\n",
              "      <th>Blood Group</th>\n",
              "      <th>Pulse rate(bpm)</th>\n",
              "      <th>RR (breaths/min)</th>\n",
              "      <th>Hb(g/dl)</th>\n",
              "      <th>Cycle(R/I)</th>\n",
              "      <th>Cycle length(days)</th>\n",
              "      <th>...</th>\n",
              "      <th>Pimples(Y/N)</th>\n",
              "      <th>Fast food (Y/N)</th>\n",
              "      <th>Reg.Exercise(Y/N)</th>\n",
              "      <th>BP _Systolic (mmHg)</th>\n",
              "      <th>BP _Diastolic (mmHg)</th>\n",
              "      <th>Follicle No. (L)</th>\n",
              "      <th>Follicle No. (R)</th>\n",
              "      <th>Avg. F size (L) (mm)</th>\n",
              "      <th>Avg. F size (R) (mm)</th>\n",
              "      <th>Endometrium (mm)</th>\n",
              "    </tr>\n",
              "  </thead>\n",
              "  <tbody>\n",
              "    <tr>\n",
              "      <th>3</th>\n",
              "      <td>37.0</td>\n",
              "      <td>65.0</td>\n",
              "      <td>148.0</td>\n",
              "      <td>29.674945</td>\n",
              "      <td>13.0</td>\n",
              "      <td>72.0</td>\n",
              "      <td>20.0</td>\n",
              "      <td>12.0</td>\n",
              "      <td>2.0</td>\n",
              "      <td>5.0</td>\n",
              "      <td>...</td>\n",
              "      <td>0.0</td>\n",
              "      <td>0.0</td>\n",
              "      <td>0.0</td>\n",
              "      <td>120.0</td>\n",
              "      <td>70.0</td>\n",
              "      <td>2.0</td>\n",
              "      <td>2.0</td>\n",
              "      <td>15.0</td>\n",
              "      <td>14.0</td>\n",
              "      <td>7.5</td>\n",
              "    </tr>\n",
              "  </tbody>\n",
              "</table>\n",
              "<p>1 rows × 37 columns</p>\n",
              "</div>\n",
              "    <div class=\"colab-df-buttons\">\n",
              "\n",
              "  <div class=\"colab-df-container\">\n",
              "    <button class=\"colab-df-convert\" onclick=\"convertToInteractive('df-694a79e0-676d-4c38-93a8-6be0c4cfded5')\"\n",
              "            title=\"Convert this dataframe to an interactive table.\"\n",
              "            style=\"display:none;\">\n",
              "\n",
              "  <svg xmlns=\"http://www.w3.org/2000/svg\" height=\"24px\" viewBox=\"0 -960 960 960\">\n",
              "    <path d=\"M120-120v-720h720v720H120Zm60-500h600v-160H180v160Zm220 220h160v-160H400v160Zm0 220h160v-160H400v160ZM180-400h160v-160H180v160Zm440 0h160v-160H620v160ZM180-180h160v-160H180v160Zm440 0h160v-160H620v160Z\"/>\n",
              "  </svg>\n",
              "    </button>\n",
              "\n",
              "  <style>\n",
              "    .colab-df-container {\n",
              "      display:flex;\n",
              "      gap: 12px;\n",
              "    }\n",
              "\n",
              "    .colab-df-convert {\n",
              "      background-color: #E8F0FE;\n",
              "      border: none;\n",
              "      border-radius: 50%;\n",
              "      cursor: pointer;\n",
              "      display: none;\n",
              "      fill: #1967D2;\n",
              "      height: 32px;\n",
              "      padding: 0 0 0 0;\n",
              "      width: 32px;\n",
              "    }\n",
              "\n",
              "    .colab-df-convert:hover {\n",
              "      background-color: #E2EBFA;\n",
              "      box-shadow: 0px 1px 2px rgba(60, 64, 67, 0.3), 0px 1px 3px 1px rgba(60, 64, 67, 0.15);\n",
              "      fill: #174EA6;\n",
              "    }\n",
              "\n",
              "    .colab-df-buttons div {\n",
              "      margin-bottom: 4px;\n",
              "    }\n",
              "\n",
              "    [theme=dark] .colab-df-convert {\n",
              "      background-color: #3B4455;\n",
              "      fill: #D2E3FC;\n",
              "    }\n",
              "\n",
              "    [theme=dark] .colab-df-convert:hover {\n",
              "      background-color: #434B5C;\n",
              "      box-shadow: 0px 1px 3px 1px rgba(0, 0, 0, 0.15);\n",
              "      filter: drop-shadow(0px 1px 2px rgba(0, 0, 0, 0.3));\n",
              "      fill: #FFFFFF;\n",
              "    }\n",
              "  </style>\n",
              "\n",
              "    <script>\n",
              "      const buttonEl =\n",
              "        document.querySelector('#df-694a79e0-676d-4c38-93a8-6be0c4cfded5 button.colab-df-convert');\n",
              "      buttonEl.style.display =\n",
              "        google.colab.kernel.accessAllowed ? 'block' : 'none';\n",
              "\n",
              "      async function convertToInteractive(key) {\n",
              "        const element = document.querySelector('#df-694a79e0-676d-4c38-93a8-6be0c4cfded5');\n",
              "        const dataTable =\n",
              "          await google.colab.kernel.invokeFunction('convertToInteractive',\n",
              "                                                    [key], {});\n",
              "        if (!dataTable) return;\n",
              "\n",
              "        const docLinkHtml = 'Like what you see? Visit the ' +\n",
              "          '<a target=\"_blank\" href=https://colab.research.google.com/notebooks/data_table.ipynb>data table notebook</a>'\n",
              "          + ' to learn more about interactive tables.';\n",
              "        element.innerHTML = '';\n",
              "        dataTable['output_type'] = 'display_data';\n",
              "        await google.colab.output.renderOutput(dataTable, element);\n",
              "        const docLink = document.createElement('div');\n",
              "        docLink.innerHTML = docLinkHtml;\n",
              "        element.appendChild(docLink);\n",
              "      }\n",
              "    </script>\n",
              "  </div>\n",
              "\n",
              "\n",
              "    </div>\n",
              "  </div>\n"
            ],
            "application/vnd.google.colaboratory.intrinsic+json": {
              "type": "dataframe",
              "variable_name": "X_new"
            }
          },
          "metadata": {},
          "execution_count": 32
        }
      ]
    },
    {
      "cell_type": "code",
      "source": [
        "prediction = model.predict(X_new)\n",
        "\n",
        "print(\"Predicted values for new data:\")\n",
        "print(prediction)"
      ],
      "metadata": {
        "id": "DxDKKexGsf0v",
        "colab": {
          "base_uri": "https://localhost:8080/"
        },
        "outputId": "ece16638-8305-4bb8-bd30-45b2e594b89f"
      },
      "execution_count": null,
      "outputs": [
        {
          "output_type": "stream",
          "name": "stdout",
          "text": [
            "Predicted values for new data:\n",
            "[0.]\n"
          ]
        }
      ]
    },
    {
      "cell_type": "code",
      "source": [
        "import joblib\n",
        "joblib.dump(model, 'random_forest_pcos')"
      ],
      "metadata": {
        "id": "MmrxWtP8sZ6X",
        "colab": {
          "base_uri": "https://localhost:8080/"
        },
        "outputId": "f2df4ef1-e231-4aa1-f1fb-4ed6622ba287"
      },
      "execution_count": null,
      "outputs": [
        {
          "output_type": "execute_result",
          "data": {
            "text/plain": [
              "['random_forest_pcos']"
            ]
          },
          "metadata": {},
          "execution_count": 34
        }
      ]
    },
    {
      "cell_type": "code",
      "source": [
        "loaded_model = joblib.load('random_forest_pcos')\n",
        "predictions = loaded_model.predict(X_new)\n",
        "print(f'Predicted value : {predictions}')"
      ],
      "metadata": {
        "id": "sdvBsSdCvgih",
        "colab": {
          "base_uri": "https://localhost:8080/"
        },
        "outputId": "9f2fdd81-5573-4c83-de81-5c844e60cb99"
      },
      "execution_count": null,
      "outputs": [
        {
          "output_type": "stream",
          "name": "stdout",
          "text": [
            "Predicted value : [0.]\n"
          ]
        }
      ]
    },
    {
      "cell_type": "code",
      "source": [
        "row = df.iloc[2]\n",
        "new_df = pd.DataFrame([row])\n",
        "#new_df.head()\n",
        "X_new = new_df.drop(columns=['PCOS (Y/N)'])\n",
        "X_new.head()"
      ],
      "metadata": {
        "id": "vsRgf0jDwBjv",
        "colab": {
          "base_uri": "https://localhost:8080/",
          "height": 200
        },
        "outputId": "99ae81fd-a01d-46d7-8c3e-ded53931e785"
      },
      "execution_count": null,
      "outputs": [
        {
          "output_type": "execute_result",
          "data": {
            "text/plain": [
              "    Age (yrs)  Weight (Kg)  Height(Cm)         BMI  Blood Group  \\\n",
              "2        33.0         68.8        165.0  25.270891         11.0   \n",
              "\n",
              "   Pulse rate(bpm)   RR (breaths/min)  Hb(g/dl)  Cycle(R/I)  \\\n",
              "2              72.0              18.0      11.8         2.0   \n",
              "\n",
              "   Cycle length(days)  ...  Pimples(Y/N)  Fast food (Y/N)  Reg.Exercise(Y/N)  \\\n",
              "2                 5.0  ...           1.0              1.0                0.0   \n",
              "\n",
              "   BP _Systolic (mmHg)  BP _Diastolic (mmHg)  Follicle No. (L)  \\\n",
              "2                120.0                  80.0              13.0   \n",
              "\n",
              "   Follicle No. (R)  Avg. F size (L) (mm)  Avg. F size (R) (mm)  \\\n",
              "2              15.0                  18.0                  20.0   \n",
              "\n",
              "   Endometrium (mm)  \n",
              "2              10.0  \n",
              "\n",
              "[1 rows x 37 columns]"
            ],
            "text/html": [
              "\n",
              "  <div id=\"df-5cb4c463-c4a5-4d09-be96-584c625a5308\" class=\"colab-df-container\">\n",
              "    <div>\n",
              "<style scoped>\n",
              "    .dataframe tbody tr th:only-of-type {\n",
              "        vertical-align: middle;\n",
              "    }\n",
              "\n",
              "    .dataframe tbody tr th {\n",
              "        vertical-align: top;\n",
              "    }\n",
              "\n",
              "    .dataframe thead th {\n",
              "        text-align: right;\n",
              "    }\n",
              "</style>\n",
              "<table border=\"1\" class=\"dataframe\">\n",
              "  <thead>\n",
              "    <tr style=\"text-align: right;\">\n",
              "      <th></th>\n",
              "      <th>Age (yrs)</th>\n",
              "      <th>Weight (Kg)</th>\n",
              "      <th>Height(Cm)</th>\n",
              "      <th>BMI</th>\n",
              "      <th>Blood Group</th>\n",
              "      <th>Pulse rate(bpm)</th>\n",
              "      <th>RR (breaths/min)</th>\n",
              "      <th>Hb(g/dl)</th>\n",
              "      <th>Cycle(R/I)</th>\n",
              "      <th>Cycle length(days)</th>\n",
              "      <th>...</th>\n",
              "      <th>Pimples(Y/N)</th>\n",
              "      <th>Fast food (Y/N)</th>\n",
              "      <th>Reg.Exercise(Y/N)</th>\n",
              "      <th>BP _Systolic (mmHg)</th>\n",
              "      <th>BP _Diastolic (mmHg)</th>\n",
              "      <th>Follicle No. (L)</th>\n",
              "      <th>Follicle No. (R)</th>\n",
              "      <th>Avg. F size (L) (mm)</th>\n",
              "      <th>Avg. F size (R) (mm)</th>\n",
              "      <th>Endometrium (mm)</th>\n",
              "    </tr>\n",
              "  </thead>\n",
              "  <tbody>\n",
              "    <tr>\n",
              "      <th>2</th>\n",
              "      <td>33.0</td>\n",
              "      <td>68.8</td>\n",
              "      <td>165.0</td>\n",
              "      <td>25.270891</td>\n",
              "      <td>11.0</td>\n",
              "      <td>72.0</td>\n",
              "      <td>18.0</td>\n",
              "      <td>11.8</td>\n",
              "      <td>2.0</td>\n",
              "      <td>5.0</td>\n",
              "      <td>...</td>\n",
              "      <td>1.0</td>\n",
              "      <td>1.0</td>\n",
              "      <td>0.0</td>\n",
              "      <td>120.0</td>\n",
              "      <td>80.0</td>\n",
              "      <td>13.0</td>\n",
              "      <td>15.0</td>\n",
              "      <td>18.0</td>\n",
              "      <td>20.0</td>\n",
              "      <td>10.0</td>\n",
              "    </tr>\n",
              "  </tbody>\n",
              "</table>\n",
              "<p>1 rows × 37 columns</p>\n",
              "</div>\n",
              "    <div class=\"colab-df-buttons\">\n",
              "\n",
              "  <div class=\"colab-df-container\">\n",
              "    <button class=\"colab-df-convert\" onclick=\"convertToInteractive('df-5cb4c463-c4a5-4d09-be96-584c625a5308')\"\n",
              "            title=\"Convert this dataframe to an interactive table.\"\n",
              "            style=\"display:none;\">\n",
              "\n",
              "  <svg xmlns=\"http://www.w3.org/2000/svg\" height=\"24px\" viewBox=\"0 -960 960 960\">\n",
              "    <path d=\"M120-120v-720h720v720H120Zm60-500h600v-160H180v160Zm220 220h160v-160H400v160Zm0 220h160v-160H400v160ZM180-400h160v-160H180v160Zm440 0h160v-160H620v160ZM180-180h160v-160H180v160Zm440 0h160v-160H620v160Z\"/>\n",
              "  </svg>\n",
              "    </button>\n",
              "\n",
              "  <style>\n",
              "    .colab-df-container {\n",
              "      display:flex;\n",
              "      gap: 12px;\n",
              "    }\n",
              "\n",
              "    .colab-df-convert {\n",
              "      background-color: #E8F0FE;\n",
              "      border: none;\n",
              "      border-radius: 50%;\n",
              "      cursor: pointer;\n",
              "      display: none;\n",
              "      fill: #1967D2;\n",
              "      height: 32px;\n",
              "      padding: 0 0 0 0;\n",
              "      width: 32px;\n",
              "    }\n",
              "\n",
              "    .colab-df-convert:hover {\n",
              "      background-color: #E2EBFA;\n",
              "      box-shadow: 0px 1px 2px rgba(60, 64, 67, 0.3), 0px 1px 3px 1px rgba(60, 64, 67, 0.15);\n",
              "      fill: #174EA6;\n",
              "    }\n",
              "\n",
              "    .colab-df-buttons div {\n",
              "      margin-bottom: 4px;\n",
              "    }\n",
              "\n",
              "    [theme=dark] .colab-df-convert {\n",
              "      background-color: #3B4455;\n",
              "      fill: #D2E3FC;\n",
              "    }\n",
              "\n",
              "    [theme=dark] .colab-df-convert:hover {\n",
              "      background-color: #434B5C;\n",
              "      box-shadow: 0px 1px 3px 1px rgba(0, 0, 0, 0.15);\n",
              "      filter: drop-shadow(0px 1px 2px rgba(0, 0, 0, 0.3));\n",
              "      fill: #FFFFFF;\n",
              "    }\n",
              "  </style>\n",
              "\n",
              "    <script>\n",
              "      const buttonEl =\n",
              "        document.querySelector('#df-5cb4c463-c4a5-4d09-be96-584c625a5308 button.colab-df-convert');\n",
              "      buttonEl.style.display =\n",
              "        google.colab.kernel.accessAllowed ? 'block' : 'none';\n",
              "\n",
              "      async function convertToInteractive(key) {\n",
              "        const element = document.querySelector('#df-5cb4c463-c4a5-4d09-be96-584c625a5308');\n",
              "        const dataTable =\n",
              "          await google.colab.kernel.invokeFunction('convertToInteractive',\n",
              "                                                    [key], {});\n",
              "        if (!dataTable) return;\n",
              "\n",
              "        const docLinkHtml = 'Like what you see? Visit the ' +\n",
              "          '<a target=\"_blank\" href=https://colab.research.google.com/notebooks/data_table.ipynb>data table notebook</a>'\n",
              "          + ' to learn more about interactive tables.';\n",
              "        element.innerHTML = '';\n",
              "        dataTable['output_type'] = 'display_data';\n",
              "        await google.colab.output.renderOutput(dataTable, element);\n",
              "        const docLink = document.createElement('div');\n",
              "        docLink.innerHTML = docLinkHtml;\n",
              "        element.appendChild(docLink);\n",
              "      }\n",
              "    </script>\n",
              "  </div>\n",
              "\n",
              "\n",
              "    </div>\n",
              "  </div>\n"
            ],
            "application/vnd.google.colaboratory.intrinsic+json": {
              "type": "dataframe",
              "variable_name": "X_new"
            }
          },
          "metadata": {},
          "execution_count": 36
        }
      ]
    },
    {
      "cell_type": "code",
      "source": [
        "prediction = model.predict(X_new)\n",
        "\n",
        "print(\"Predicted values for new data:\")\n",
        "print(prediction)"
      ],
      "metadata": {
        "id": "iPPOWCGHxdIF",
        "colab": {
          "base_uri": "https://localhost:8080/"
        },
        "outputId": "968c2bbd-7914-4953-8663-53c438e81fdc"
      },
      "execution_count": null,
      "outputs": [
        {
          "output_type": "stream",
          "name": "stdout",
          "text": [
            "Predicted values for new data:\n",
            "[1.]\n"
          ]
        }
      ]
    },
    {
      "cell_type": "code",
      "source": [
        "from google.colab import files\n",
        "import joblib\n",
        "\n",
        "# Assuming 'model' is your trained machine learning model\n",
        "joblib.dump(model, 'random_forest_pcos.joblib')\n",
        "\n",
        "# Download the model file\n",
        "files.download('random_forest_pcos.joblib')\n"
      ],
      "metadata": {
        "colab": {
          "base_uri": "https://localhost:8080/",
          "height": 34
        },
        "id": "NuyGh7QTsoBy",
        "outputId": "713c6318-07fc-418a-a09d-942a4b248cf6"
      },
      "execution_count": null,
      "outputs": [
        {
          "output_type": "display_data",
          "data": {
            "text/plain": [
              "<IPython.core.display.Javascript object>"
            ],
            "application/javascript": [
              "\n",
              "    async function download(id, filename, size) {\n",
              "      if (!google.colab.kernel.accessAllowed) {\n",
              "        return;\n",
              "      }\n",
              "      const div = document.createElement('div');\n",
              "      const label = document.createElement('label');\n",
              "      label.textContent = `Downloading \"${filename}\": `;\n",
              "      div.appendChild(label);\n",
              "      const progress = document.createElement('progress');\n",
              "      progress.max = size;\n",
              "      div.appendChild(progress);\n",
              "      document.body.appendChild(div);\n",
              "\n",
              "      const buffers = [];\n",
              "      let downloaded = 0;\n",
              "\n",
              "      const channel = await google.colab.kernel.comms.open(id);\n",
              "      // Send a message to notify the kernel that we're ready.\n",
              "      channel.send({})\n",
              "\n",
              "      for await (const message of channel.messages) {\n",
              "        // Send a message to notify the kernel that we're ready.\n",
              "        channel.send({})\n",
              "        if (message.buffers) {\n",
              "          for (const buffer of message.buffers) {\n",
              "            buffers.push(buffer);\n",
              "            downloaded += buffer.byteLength;\n",
              "            progress.value = downloaded;\n",
              "          }\n",
              "        }\n",
              "      }\n",
              "      const blob = new Blob(buffers, {type: 'application/binary'});\n",
              "      const a = document.createElement('a');\n",
              "      a.href = window.URL.createObjectURL(blob);\n",
              "      a.download = filename;\n",
              "      div.appendChild(a);\n",
              "      a.click();\n",
              "      div.remove();\n",
              "    }\n",
              "  "
            ]
          },
          "metadata": {}
        },
        {
          "output_type": "display_data",
          "data": {
            "text/plain": [
              "<IPython.core.display.Javascript object>"
            ],
            "application/javascript": [
              "download(\"download_3b25fb38-46e3-4048-a44e-54ef106573ea\", \"random_forest_pcos.joblib\", 683561)"
            ]
          },
          "metadata": {}
        }
      ]
    }
  ]
}